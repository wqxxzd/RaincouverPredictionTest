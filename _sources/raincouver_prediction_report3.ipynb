{
 "cells": [
  {
   "cell_type": "markdown",
   "id": "7da72073-135d-43ea-b61a-dedd695c04dd",
   "metadata": {},
   "source": [
    "# Predicting precipitation in Vancouver"
   ]
  },
  {
   "cell_type": "markdown",
   "id": "5433cd72-8fa0-4658-b3ff-e5872fa6db0d",
   "metadata": {},
   "source": [
    "by Dan Zhang, Doris (Yun Yi) Cai, Hayley (Yi) Han & Sivakorn (Oak) Chong 2023/11/30"
   ]
  },
  {
   "cell_type": "code",
   "execution_count": 1,
   "id": "906b622d-f50f-4e85-bc96-9db2dddcbfa6",
   "metadata": {
    "editable": true,
    "slideshow": {
     "slide_type": ""
    },
    "tags": [
     "remove-input"
    ]
   },
   "outputs": [
    {
     "name": "stderr",
     "output_type": "stream",
     "text": [
      "<jemalloc>: MADV_DONTNEED does not work (memset will be used instead)\n",
      "<jemalloc>: (This is the expected behaviour if you are running under QEMU)\n"
     ]
    }
   ],
   "source": [
    "import pandas as pd\n",
    "from myst_nb import glue\n",
    "import pickle\n",
    "#from sklearn import set_config"
   ]
  },
  {
   "cell_type": "markdown",
   "id": "77e8f636-550f-4561-af35-18ce09ee93d1",
   "metadata": {
    "editable": true,
    "slideshow": {
     "slide_type": ""
    },
    "tags": []
   },
   "source": [
    "# Summary\n",
    "\n",
    "Our project investigates the prediction of daily precipitation in Vancouver using machine learning methods. Using a dataset spanning from 1990 to 2023, we explored the predictive power of some key environmental and cliamte features such as temperature, wind speed, and evapotranspiration. Our results suggest the best classification model is Support Vector Machine with Radial Basis Fuction (SVM RBF) model with the hyperparameter C=10.0. The model achieved a notable F1 score of 0.87 on the positive class (precipitation is present) when generalized to the unseen data, suggesting a high accuracy in precipitation prediction. We also explored feature importance, showing ET₀ reference evapotranspiration and the cosine transformation of months as robust predictors. Hyperparameter optimization did not make improvement to our curren model, indicating the potential need for feature engineering or incoportating more features. Our project presents a reliable model for predicting precipitation with potential practical applications in various fields."
   ]
  },
  {
   "cell_type": "markdown",
   "id": "0bba655a-7ccb-4aea-befb-6220cb0112bb",
   "metadata": {
    "editable": true,
    "slideshow": {
     "slide_type": ""
    },
    "tags": []
   },
   "source": [
    "# 1. Introduction \n",
    "\n",
    "Prediction of daily precipitation is a fundamental aspect of meteorological studies {cite:p}`new2001precipitation`. Accurate precipitation prediction is crucial for agriculture, water resources management, as well as daily activities of people. Specifically, in a geographically and climatically diverse region like Vancouver, predicting precipitation is vital for people to prepare for extreme weather events, reducing hazards and minimizing property damage.\n",
    "\n",
    "In this project, we aim to predict the occurrence of daily precipitation in Vancouver using machine learning (ML) classification methods {cite:p}`ortiz2014accurate`. Specifically, our analysis utilizes a dataset containing daily precipitation information in Vancouver from 1990 to the present (i.e., 6 Nov, 2023). This dataset, sourced from Open-Meteo’s Historical Weather API {cite:p}`Zippenfenig2023open`, includes a number of parameters relevant to precipitation prediction. \n",
    "Key parameters include month, daily temperature measures, wind speeds, wind direction, shortwave radiation, and ET₀ reference evapotranspiration. Specifically, shortwave radiation represents the sum of solar energy received in a day; ET₀ reference evapotranspiration provides an indication of the atmospheric demand for moisture (i.e., higher relative humidity reduces ET₀ ); and month is also included as a variable since it accounts for the seasonal variations in precipitation {cite:p}`pal2000simulation`. This project may contributes insights into accurate forecast of the precipitation in Vancouver."
   ]
  },
  {
   "cell_type": "markdown",
   "id": "a00f6cd1-f62e-4daf-9c88-b317324bb88a",
   "metadata": {
    "editable": true,
    "slideshow": {
     "slide_type": ""
    },
    "tags": []
   },
   "source": [
    "# 2. Methods & Results\n",
    "\n",
    "## 2.1 Data\n",
    "\n",
    "The dataset used in this project was sourced from Open-Meteo’s Historical Weather API {cite:p}`Zippenfenig2023open`, which can be found [here](https://open-meteo.com/en/docs/historical-weather-api#latitude=49.2497&longitude=-123.1193&hourly=weather_code&daily=weather_code,temperature_2m_max,temperature_2m_min,temperature_2m_mean,apparent_temperature_max,apparent_temperature_min,apparent_temperature_mean,sunrise,sunset,precipitation_sum,rain_sum,snowfall_sum,precipitation_hours,wind_speed_10m_max,wind_gusts_10m_max,wind_direction_10m_dominant,shortwave_radiation_sum,et0_fao_evapotranspiration&timezone=auto). Each row in the data set represents daily precipitation information in Vancouver with  various parameters relevant to precipitation. Parameters included in the following analysis are listed with a short description as follows.  "
   ]
  },
  {
   "cell_type": "markdown",
   "id": "e4ce24ba-d3d1-4a7c-ae65-dc4e3c863f2a",
   "metadata": {
    "editable": true,
    "slideshow": {
     "slide_type": ""
    },
    "tags": []
   },
   "source": [
    "#### Column description  \n",
    "- `temperature_2m_max`: Maximum daily air temperature at 2 meters above ground (°C)\n",
    "- `temperature_2m_min`: Minimum daily air temperature at 2 meters above ground (°C)\n",
    "- `temperature_2m_mean`: Mean daily air temperature at 2 meters above ground (°C)\n",
    "- `apparent_temperature_max`: Maximum daily apparent temperature (°C)\n",
    "- `apparent_temperature_min`: Minimum daily apparent temperature (°C)\n",
    "- `apparent_temperature_mean`: Mean daily apparent temperature (°C)\n",
    "- `precipitation_sum`: Sum of daily precipitation (including rain, showers and snowfall) (mm)\n",
    "- `wind_speed_10m_max`: Maximum wind speed on a day (km/h)\n",
    "- `wind_gusts_10m_max`: Maximum wind gusts on a day (km/h)\n",
    "- `wind_direction_10m_dominant`: Dominant wind direction (°)\n",
    "- `shortwave_radiation_sum`: The sum of solar radiaion on a given day in Megajoules (MJ/m²)\n",
    "- `et0_fao_evapotranspiration`: Daily sum of ET₀ Reference Evapotranspiration of a well watered grass field (mm)\n",
    "- `month`: Month of the record"
   ]
  },
  {
   "cell_type": "markdown",
   "id": "d12f83e3-4b1a-46f7-8dfc-63c8b97509e7",
   "metadata": {
    "editable": true,
    "slideshow": {
     "slide_type": ""
    },
    "tags": []
   },
   "source": [
    "## 2.2 Exploratory Data Analysis\n",
    "\n",
    "All the features in our data are numeric. To look at how these features are distributed in order to decided appropiate data transformation method, we plotted the distribution of each numeric features ({numref}`Figure {number} <histogram_numeric_features>`). \n",
    "\n",
    "The histograms for temperature variables (maximum, minimum, and mean temperatures at 2 meters above ground, and maximum, minimum, and mean apparent temperatures) generally show a bell-shaped distribution. The histogram for precipitation sums is highly skewed to the right, indicating that there are many days with low precipitation and fewer days with high precipitation. The wind speed and wind gusts also show right-skewed distributions, which is typical for wind speed data, where calm days are more common than extremely windy ones. The dominant wind direction histogram appears to be multimodal. Lastly, the shortwave radiation and the ET₀ Reference Evapotranspiration distribution also appear right-skewed. In summary, the distributions for these climate and environmental features are reasonable and there are no obvious anomalies or outliers that need for further data cleaning."
   ]
  },
  {
   "cell_type": "markdown",
   "id": "a3a8ebc8-fcdf-4e7d-8361-586d9287c1c3",
   "metadata": {
    "editable": true,
    "slideshow": {
     "slide_type": ""
    },
    "tags": []
   },
   "source": [
    "```{figure} ../../results/figures/histogram_numeric_features.png\n",
    "---\n",
    "width: 800px\n",
    "name: histogram_numeric_features\n",
    "---\n",
    "Distributions for the climate and environmental features.\n",
    "```"
   ]
  },
  {
   "cell_type": "markdown",
   "id": "21b00a71-85ca-43f8-96a6-630194f11455",
   "metadata": {
    "editable": true,
    "slideshow": {
     "slide_type": ""
    },
    "tags": []
   },
   "source": [
    "We used a correlation heatmap to further examine the potential correlations between the features ({numref}`Figure {number} <correlation_heatmap>`). The correlation heatmap indicates strong correlations among the temperature variables (maximum, minimum, and mean temperatures at 2 meters above ground and apparent temperatures), with coefficients close to 1. Thus, we used only `temperature_2m_mean` for analysis to avoid multicollinearity. Similarly, wind-related features (wind speed and wind gusts) also show a high degree of correlation. Therefore, we chose to keep the wind speed feature to reduce redundancy in the model.\n"
   ]
  },
  {
   "cell_type": "markdown",
   "id": "021b0b96-4ed1-4572-b0aa-69af03eb0fe6",
   "metadata": {
    "editable": true,
    "slideshow": {
     "slide_type": ""
    },
    "tags": []
   },
   "source": [
    "```{figure} ../../results/figures/correlation_heatmap.png\n",
    "---\n",
    "width: 600px\n",
    "name: correlation_heatmap\n",
    "---\n",
    "Correlation heatmap between the climate and environmental features.\n",
    "```"
   ]
  },
  {
   "cell_type": "markdown",
   "id": "29cb9e43-35b5-47fd-9b88-a4a3e1576de7",
   "metadata": {
    "editable": true,
    "slideshow": {
     "slide_type": ""
    },
    "tags": []
   },
   "source": [
    "## 2.3 Classification Model Development"
   ]
  },
  {
   "cell_type": "markdown",
   "id": "c2d38a4e-94a7-446b-a4b4-c7ea12db8c51",
   "metadata": {
    "editable": true,
    "slideshow": {
     "slide_type": ""
    },
    "tags": []
   },
   "source": [
    "Multiple models are tested and scored across four possible models (Decision Trees, Support Vector Machine, Logistic Regression and K-Nearest Neighbours). The features had been preprocessed through a pipeline with `StandardScaler` tranformer before passing to fit the models. The transformer converts all numeric features into standard normal scale to mitigate potential adverse effects on performance arising from disparate feature scales. Considering the observed seasonal pattern in Vancouver precipitation data, we transformed the feature `month` to circular features `month_sin` and `month_cos` using the trigonometry functions (i.e. sine and cosine), aiming to capture this cylical nature of data. For each model, we run 5-fold cross validation and extract F1 score to identify the best performing class of model. The performace of each model is plotted below ({numref}`Figure {number} <model_comparison>`)."
   ]
  },
  {
   "cell_type": "markdown",
   "id": "a33ea25f-aabd-4ea3-b8db-4c408cedc780",
   "metadata": {
    "editable": true,
    "slideshow": {
     "slide_type": ""
    },
    "tags": []
   },
   "source": [
    "```{figure} ../../results/figures/model_comparison.png\n",
    "---\n",
    "width: 800px\n",
    "name: model_comparison\n",
    "---\n",
    "Comparison of model performance (F1) for predicting existance of rainfall in Vancouver. \n",
    "```"
   ]
  },
  {
   "cell_type": "markdown",
   "id": "fdbf15b5-6603-42fd-8414-b968cda89f00",
   "metadata": {
    "editable": true,
    "slideshow": {
     "slide_type": ""
    },
    "tags": []
   },
   "source": [
    "With the comparison, the Support Vector Machine with Radial Basis Function (SVM RBF) exhibited the most favorable performance, attaining a F1 score of 0.87. The next stage in our analytical pipeline involves the optimization of hyperparameters for this particular model, with the objective of further performance improvement. "
   ]
  },
  {
   "cell_type": "markdown",
   "id": "8f57b74b-9cf1-4490-9469-38a6688a9682",
   "metadata": {
    "editable": true,
    "slideshow": {
     "slide_type": ""
    },
    "tags": []
   },
   "source": [
    "Before proceeding with this optimization, we assess the importance of individual feature. With the limitation of SVM RBF that it does not inherently provide direct measures of feature importance, we utilized the Logistic Regression analysis previously conducted to derived the relative importance of features based on their fitted coefficients. While the feature importance interpretation may not align precisely with that of the Support Vector Machine, it nonetheless provides valuable insights. Comparsion of features importance are displayed as below ({numref}`Figure {number} <Feature_importance>`). `evapotranspiration` exhibits the highest correlation with precipitation. This correlation aligns intuitively with that increased water evaporation corresponds to an increased likelihood of rainfall. It is observed that `month_cos` shows a strong correlation with existance of rain, whereas such correlation is not evident in the case of `month_sin`. The cosine value of month tends to coincide well with the seasons in Vancouver."
   ]
  },
  {
   "cell_type": "markdown",
   "id": "35d73692-3279-4d2a-8be5-6335fcc3cc29",
   "metadata": {
    "editable": true,
    "slideshow": {
     "slide_type": ""
    },
    "tags": []
   },
   "source": [
    "```{figure} ../../results/figures/Feature_importance.png\n",
    "---\n",
    "width: 800px\n",
    "name: Feature_importance\n",
    "---\n",
    "Comparison of importance of features for predicting existance of rainfall in Vancouver. \n",
    "```"
   ]
  },
  {
   "cell_type": "markdown",
   "id": "dda68073-d766-40c9-bf34-80bfeeffff00",
   "metadata": {
    "editable": true,
    "slideshow": {
     "slide_type": ""
    },
    "tags": []
   },
   "source": [
    "We performed cross validation grid search to optimize SVM RBF model performance by tunning its hyperparameter C. The best performing SVM RBF model had C=10.0, and yielded the scoring metrics below ({numref}`Figure {number} <correlation_heatmap>`). F1 score is consistent across the two classes (rain and no rain), which indicates that the model delivers an unbiased prediction. \n",
    "The weighted average F1-score of 0.87 is closer to that of the pre-tuned SVM RBF model. The model did not improve from hyperparameter optimization further with its default settings. Nonetheless, our current model performed well on predicting rain with 87% accuracy, with 8 features. "
   ]
  },
  {
   "cell_type": "markdown",
   "id": "0c83fee0-e5a5-43c3-8f0e-2855b432e82b",
   "metadata": {
    "editable": true,
    "slideshow": {
     "slide_type": ""
    },
    "tags": []
   },
   "source": [
    "```{figure} ../../results/figures/classification_report.png\n",
    "---\n",
    "width: 800px\n",
    "name: classification_report\n",
    "---\n",
    "The performance metrics of our final chosen model "
   ]
  },
  {
   "cell_type": "markdown",
   "id": "8431aebb-7dd9-4551-819d-fd43edc7c712",
   "metadata": {
    "editable": true,
    "jp-MarkdownHeadingCollapsed": true,
    "slideshow": {
     "slide_type": ""
    },
    "tags": []
   },
   "source": [
    "# 3. Discussion\n",
    "\n",
    "The results of this project demonstrate the utility of machine learning techniques, specifically Support Vector Machine with Radial Basis Function (SVM RBF), in predicting precipitation in Vancouver. The high F1 score of 0.87 achieved by the optimized SVM model demonstrates the model's good performance in distinguishing between rainy and non-rainy days. \n",
    "\n",
    "Our results show the prominent predictive power of evapotranspiration on precipitation prediction. Furthermore, we showed that the inclusion of month as a circular feature effectively capture seasonal variations, which enhance the model's predictive power. \n",
    "\n",
    "The lack of improvement from hyperparameter tuning suggests that the default settings of the SVM model could be already near optimal. Future model improvements may not benefit from hyperparameter tuning but rather from exploring additional feature engineering approaches. Next, we can explore regression models for quantitative precipitation prediction. In the meanwhile, examinig potential non-linear relationships between features and precipitation may facilitate further improvement. \n",
    "\n",
    "In summary, our project provides a model that can accurately predict Vancouver's precipitation with a limited number of environemntal and climate features. This is a promising tool and could lead to more powerful precipitation forecasting, with its potential applications in agriculture, urban planning, and disaster preparedness. "
   ]
  },
  {
   "cell_type": "markdown",
   "id": "f4d8d70f-7ea4-414b-a467-e07288bed5ab",
   "metadata": {
    "editable": true,
    "slideshow": {
     "slide_type": ""
    },
    "tags": []
   },
   "source": [
    "# References"
   ]
  },
  {
   "cell_type": "markdown",
   "id": "f4e868b3-85da-4877-9638-761af93e2cd9",
   "metadata": {},
   "source": [
    "```{bibliography}\n",
    "```"
   ]
  },
  {
   "cell_type": "code",
   "execution_count": null,
   "id": "1ab113e6-26ef-4660-af11-ae0d0f1ddcf2",
   "metadata": {},
   "outputs": [],
   "source": []
  }
 ],
 "metadata": {
  "kernelspec": {
   "display_name": "Python 3 (ipykernel)",
   "language": "python",
   "name": "python3"
  },
  "language_info": {
   "codemirror_mode": {
    "name": "ipython",
    "version": 3
   },
   "file_extension": ".py",
   "mimetype": "text/x-python",
   "name": "python",
   "nbconvert_exporter": "python",
   "pygments_lexer": "ipython3",
   "version": "3.11.6"
  }
 },
 "nbformat": 4,
 "nbformat_minor": 5
}
