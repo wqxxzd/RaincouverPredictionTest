{
 "cells": [
  {
   "cell_type": "markdown",
   "id": "7da72073-135d-43ea-b61a-dedd695c04dd",
   "metadata": {},
   "source": [
    "# Predicting precipitation in Vancouver"
   ]
  },
  {
   "cell_type": "markdown",
   "id": "5433cd72-8fa0-4658-b3ff-e5872fa6db0d",
   "metadata": {},
   "source": [
    "by Dan Zhang, Doris (Yun Yi) Cai, Hayley (Yi) Han & Sivakorn (Oak) Chong 2023/11/30"
   ]
  },
  {
   "cell_type": "code",
   "execution_count": 1,
   "id": "906b622d-f50f-4e85-bc96-9db2dddcbfa6",
   "metadata": {},
   "outputs": [],
   "source": [
    "import pandas as pd\n",
    "from myst_nb import glue\n",
    "import pickle\n",
    "#from sklearn import set_config"
   ]
  },
  {
   "cell_type": "markdown",
   "id": "77e8f636-550f-4561-af35-18ce09ee93d1",
   "metadata": {},
   "source": [
    "# Summary\n",
    "\n",
    "Our project is to build a classification model to predict if there's precipitation in a day (True or False) and a regression model to predict the amount of precipitation, based on features of temperature, wind speed, direction, shortwave radiation and evapotranspiration. The best classification model in our training and testing process is SVC-RBF with hyperparameter C=10.0. It yields the best test score of 0.8625 and f1-score of 0.87 on the positive class (there's precipitation) when generalizes to the unseen data. This is a pretty high accuracy to predict whether there's rain on a particular day. The best regression model trained with the same features to predict the amount of precipitaiton is SVR with gamma=0.1 and C=1000. It produces the best score on the unseen test data of 0.6993. The accuracy is adequate. More study could be done to improve the regression model."
   ]
  },
  {
   "cell_type": "markdown",
   "id": "0bba655a-7ccb-4aea-befb-6220cb0112bb",
   "metadata": {},
   "source": [
    "# 1. Introduction \n",
    "\n",
    "Prediction of daily precipitation is a fundamental aspect of meteorological studies {cite:p}`new2001precipitation`. Accurate precipitation prediction is crucial for agriculture, water resources management, as well as daily activities of people. Specifically, in a geographically and climatically diverse region like Vancouver, predicting precipitation is vital for people to prepare for extreme weather events, reducing hazards and minimizing property damage.\n",
    "\n",
    "In this project, we aim to predict the occurrence and the amount of daily precipitation in Vancouver using machine learning (ML) classification methods {cite:p}`ortiz2014accurate`. Specifically, our analysis utilizes a dataset containing daily precipitation information in Vancouver from 1990 to the present (i.e., 6 Nov, 2023). This dataset, sourced from Open-Meteo’s Historical Weather API {cite:p}`Zippenfenig2023open`, includes a number of parameters relevant to precipitation prediction. \n",
    "Key parameters include month, daily temperature measures, wind speeds, wind direction, shortwave radiation, and ET₀ reference evapotranspiration. Specifically, shortwave radiation represents the sum of solar energy received in a day; ET₀ reference evapotranspiration provides an indication of the atmospheric demand for moisture (i.e., higher relative humidity reduces ET₀ ); and month is also included as a variable since it accounts for the seasonal variations in precipitation {cite:p}`pal2000simulation`. This project may contributes insights into accurate forecast of the precipitation in Vancouver."
   ]
  },
  {
   "cell_type": "markdown",
   "id": "a00f6cd1-f62e-4daf-9c88-b317324bb88a",
   "metadata": {},
   "source": [
    "# 2. Methods & Results\n",
    "\n",
    "## 2.1 Data\n",
    "\n",
    "The dataset used in this project was sourced from Open-Meteo’s Historical Weather API {cite:p}`Zippenfenig2023open`, which can be found [here](https://open-meteo.com/en/docs/historical-weather-api#latitude=49.2497&longitude=-123.1193&hourly=weather_code&daily=weather_code,temperature_2m_max,temperature_2m_min,temperature_2m_mean,apparent_temperature_max,apparent_temperature_min,apparent_temperature_mean,sunrise,sunset,precipitation_sum,rain_sum,snowfall_sum,precipitation_hours,wind_speed_10m_max,wind_gusts_10m_max,wind_direction_10m_dominant,shortwave_radiation_sum,et0_fao_evapotranspiration&timezone=auto).Each row in the data set represents daily precipitation information in Vancouver with  various parameters relevant to precipitation. Parameters included in the following analysis are listed with a short description as follows.  "
   ]
  },
  {
   "cell_type": "markdown",
   "id": "e4ce24ba-d3d1-4a7c-ae65-dc4e3c863f2a",
   "metadata": {},
   "source": [
    "#### Column description  \n",
    "- `temperature_2m_max`: Maximum daily air temperature at 2 meters above ground (°C)\n",
    "- `temperature_2m_min`: Minimum daily air temperature at 2 meters above ground (°C)\n",
    "- `temperature_2m_mean`: Mean daily air temperature at 2 meters above ground (°C)\n",
    "- `apparent_temperature_max`: Maximum daily apparent temperature (°C)\n",
    "- `apparent_temperature_min`: Minimum daily apparent temperature (°C)\n",
    "- `apparent_temperature_mean`: Mean daily apparent temperature (°C)\n",
    "- `precipitation_sum`: Sum of daily precipitation (including rain, showers and snowfall) (mm)\n",
    "- `wind_speed_10m_max`: Maximum wind speed on a day (km/h)\n",
    "- `wind_gusts_10m_max`: Maximum wind gusts on a day (km/h)\n",
    "- `wind_direction_10m_dominant`: Dominant wind direction (°)\n",
    "- `shortwave_radiation_sum`: The sum of solar radiaion on a given day in Megajoules (MJ/m²)\n",
    "- `et0_fao_evapotranspiration`: Daily sum of ET₀ Reference Evapotranspiration of a well watered grass field (mm)"
   ]
  },
  {
   "cell_type": "markdown",
   "id": "d12f83e3-4b1a-46f7-8dfc-63c8b97509e7",
   "metadata": {},
   "source": [
    "## 2.2 Exploratory Data Analysis\n",
    "\n",
    "All the features in our data are numeric. To look at how these features are distributed in order to decided appropiate data transformation method, we plotted the distribution of each numeric features ( {numref}`Figure {number} <histogram_numeric_features>`). \n",
    "\n",
    "The histograms for temperature variables (maximum, minimum, and mean temperatures at 2 meters above ground, and maximum, minimum, and mean apparent temperatures) generally show a bell-shaped distribution. The histogram for precipitation sums is highly skewed to the right, indicating that there are many days with low precipitation and fewer days with high precipitation. The wind speed and wind gusts also show right-skewed distributions, which is typical for wind speed data, where calm days are more common than extremely windy ones. The dominant wind direction histogram appears to be multimodal. Lastly, the shortwave radiation and the ET₀ Reference Evapotranspiration distribution also appear right-skewed. In summary, the distributions for these climate and environmental features are reasonable and there are no obvious anomalies or outliers that need for further data cleaning."
   ]
  },
  {
   "cell_type": "markdown",
   "id": "a3a8ebc8-fcdf-4e7d-8361-586d9287c1c3",
   "metadata": {},
   "source": [
    "```{figure} ../../results/figures/histogram_numeric_features.png\n",
    "---\n",
    "width: 800px\n",
    "name: histogram_numeric_features\n",
    "---\n",
    "Distributions for the climate and environmental features.\n",
    "```"
   ]
  },
  {
   "cell_type": "markdown",
   "id": "21b00a71-85ca-43f8-96a6-630194f11455",
   "metadata": {},
   "source": [
    "We used a correlation heatmap to further examine the potential correlations between the features ( {numref}`Figure {number} <correlation_heatmap>`). The correlation heatmap indicates strong correlations among the temperature variables (maximum, minimum, and mean temperatures at 2 meters above ground and apparent temperatures), with coefficients close to 1. Thus, we used only `temperature_2m_mean` for analysis to avoid multicollinearity. Similarly, wind-related features (wind speed and wind gusts) also show a high degree of correlation. Therefore, we choosing to keep the wind speed feature to reduce redundancy in the model.\n"
   ]
  },
  {
   "cell_type": "markdown",
   "id": "021b0b96-4ed1-4572-b0aa-69af03eb0fe6",
   "metadata": {},
   "source": [
    "```{figure} ../../results/figures/correlation_heatmap.png\n",
    "---\n",
    "width: 600px\n",
    "name: correlation_heatmap\n",
    "---\n",
    "Correlation heatmap between the climate and environmental features.\n",
    "```"
   ]
  },
  {
   "cell_type": "markdown",
   "id": "29cb9e43-35b5-47fd-9b88-a4a3e1576de7",
   "metadata": {},
   "source": [
    "## 2.3 Classification Model Development"
   ]
  },
  {
   "cell_type": "markdown",
   "id": "c2d38a4e-94a7-446b-a4b4-c7ea12db8c51",
   "metadata": {},
   "source": [
    "Multiple models are tested and scored across four possible models (Decision Trees, Support Vector Machine, Logistic Regression and K-Nearest Neighbours). For each model, we run 5-fold cross validation and extract F1 score to identify the best performing class of model, as plotted below ( {numref}`Figure {number} <model_comparison>`) "
   ]
  },
  {
   "cell_type": "markdown",
   "id": "a33ea25f-aabd-4ea3-b8db-4c408cedc780",
   "metadata": {},
   "source": [
    "```{figure} ../../results/figures/model_comparison.png\n",
    "---\n",
    "width: 800px\n",
    "name: model_comparison\n",
    "---\n",
    "Comparison of model performance (F1) for predicting existance of rainfall in Vancouver. \n",
    "```"
   ]
  },
  {
   "cell_type": "markdown",
   "id": "fdbf15b5-6603-42fd-8414-b968cda89f00",
   "metadata": {},
   "source": [
    "With the comparison, we identified that Support Vector Machine with Radial Basis Fuction (SVM RBF) has the best performance. The performance for the model almost reach 0.88. The next stage of our pipeline would be to optimize hyperparameter for this model in hope of improving the performance even further. "
   ]
  },
  {
   "cell_type": "markdown",
   "id": "8f57b74b-9cf1-4490-9469-38a6688a9682",
   "metadata": {},
   "source": [
    "But before we go ahead, we actually have a chance to take a look at which feature is the most important! Recall that we actually did Logistic Regression, and the coefficients from that model fitting can be used to imply the feature importance. Although it might not be exactly the same as Support Vector Machine, at least it gives us some intuition. We look at logistic regression's coefficients because it is not as simple to extract out information on feature importance from the chosen SVM model. Now then, let us take a look at the figure ( {numref}`Figure {number} <Feature_importance>`)"
   ]
  },
  {
   "cell_type": "markdown",
   "id": "35d73692-3279-4d2a-8be5-6335fcc3cc29",
   "metadata": {},
   "source": [
    "```{figure} ../../results/figures/Feature_importance.png\n",
    "---\n",
    "width: 800px\n",
    "name: Feature_importance\n",
    "---\n",
    "Comparison of importance of features for predicting existance of rainfall in Vancouver. \n",
    "```"
   ]
  },
  {
   "cell_type": "markdown",
   "id": "148ef5a3-391f-405c-8a36-5bedc6bfb9e5",
   "metadata": {},
   "source": [
    "As we can see, there are many interpretations we can make. Obviously, evapotranspiration is the most correlated with rain. And this does make sense as the more water evaporates, the more likely it is to rain! Next would be the month. Recall that we transformed our month, which is a circular feature, into two features (month_cos and month_sin.) We can see that month_cos has a very strong correlation to existance of rain, but month_sin does not. I guess cosine value of month coincide well with the seasons in Vancouver!\n",
    "\n",
    "A point to take note is that our features have respectable coefficient values and there do not seem to be useless features. This is a sign of great generalizable model. "
   ]
  },
  {
   "cell_type": "markdown",
   "id": "dda68073-d766-40c9-bf34-80bfeeffff00",
   "metadata": {},
   "source": [
    "Now now, let us try to fully optimize the chosen SVM model! We passed it some a hyperparameter optimization magic and obtain the best model.  {numref}`Figure {number} <correlation_heatmap>` shows the final performance metrics of optimized RBF SVM. "
   ]
  },
  {
   "cell_type": "markdown",
   "id": "0c83fee0-e5a5-43c3-8f0e-2855b432e82b",
   "metadata": {},
   "source": [
    "```{figure} ../../results/figures/classification_report.png\n",
    "---\n",
    "width: 800px\n",
    "name: classification_report\n",
    "---\n",
    "The performance metrics of our final chosen model "
   ]
  },
  {
   "cell_type": "markdown",
   "id": "93baec62-6bdf-4e8f-8254-1af4e98918a1",
   "metadata": {},
   "source": [
    "As you can see, We can see that F1 is consistent across the two classes (rain and no rain.) Meaning that the model do not give a biased prediction. \n",
    "The weighted average F1 score turns out to be 0.86. Seems like the hyperparameter optimization could not do much to improve the model further from its default setting.\n",
    "\n",
    "Nonetheless, we have a tool to predict rain with 86% accuracy, with just only 8 features. "
   ]
  },
  {
   "cell_type": "markdown",
   "id": "8df3a95e-4118-4532-8261-bc07373b2bc2",
   "metadata": {},
   "source": [
    "Going forward, we can take a look at ways to improve this number further. Feature engineering could help if there are other non-linear relationship between the features and rainfall. We can even explore regression models to predict the amount of rainfall, instead of just whether there is rain. "
   ]
  },
  {
   "cell_type": "markdown",
   "id": "f4d8d70f-7ea4-414b-a467-e07288bed5ab",
   "metadata": {},
   "source": [
    "# References"
   ]
  },
  {
   "cell_type": "markdown",
   "id": "f4e868b3-85da-4877-9638-761af93e2cd9",
   "metadata": {},
   "source": [
    "```{bibliography}\n",
    "```"
   ]
  },
  {
   "cell_type": "code",
   "execution_count": null,
   "id": "1ab113e6-26ef-4660-af11-ae0d0f1ddcf2",
   "metadata": {},
   "outputs": [],
   "source": []
  }
 ],
 "metadata": {
  "kernelspec": {
   "display_name": "Python 3 (ipykernel)",
   "language": "python",
   "name": "python3"
  },
  "language_info": {
   "codemirror_mode": {
    "name": "ipython",
    "version": 3
   },
   "file_extension": ".py",
   "mimetype": "text/x-python",
   "name": "python",
   "nbconvert_exporter": "python",
   "pygments_lexer": "ipython3",
   "version": "3.11.6"
  }
 },
 "nbformat": 4,
 "nbformat_minor": 5
}
